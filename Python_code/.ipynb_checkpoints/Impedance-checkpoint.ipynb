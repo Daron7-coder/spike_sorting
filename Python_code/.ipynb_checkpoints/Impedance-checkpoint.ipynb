{
 "cells": [
  {
   "cell_type": "code",
   "execution_count": 1,
   "id": "964cae8c",
   "metadata": {},
   "outputs": [],
   "source": [
    "import numpy as np"
   ]
  },
  {
   "cell_type": "code",
   "execution_count": 41,
   "id": "d3536f73",
   "metadata": {},
   "outputs": [],
   "source": [
    "# Impedance (Z)\n",
    "Z = lambda r,x: np.sqrt(r**2+x**2)\n",
    "# Resistance (R)\n",
    "R = lambda v,i: v/i\n",
    "# Reactance (X)\n",
    "X = lambda XC,XL: XL-XC"
   ]
  },
  {
   "cell_type": "code",
   "execution_count": 37,
   "id": "f47cca20",
   "metadata": {},
   "outputs": [],
   "source": [
    "# Capacitive reactance\n",
    "Xc = lambda f,C: 1/(2*np.pi*f*C)\n",
    "# Inductive reactance\n",
    "Xl = lambda f,L: 2*np.pi*f*L\n",
    "\n",
    "Result = lambda ans: print(f'{round(ans,2)} ohms')\n",
    "\n",
    "# X: Reactance in ohms\n",
    "# f: frequence in hertz(Hz)\n",
    "# C: Capacitance in farads(F)\n",
    "# L: Inductance in henrys(H)"
   ]
  },
  {
   "cell_type": "code",
   "execution_count": 38,
   "id": "84f02575",
   "metadata": {},
   "outputs": [
    {
     "name": "stdout",
     "output_type": "stream",
     "text": [
      "3183.1 ohms\n",
      "15.92 ohms\n"
     ]
    },
    {
     "data": {
      "text/plain": [
       "(None, None)"
      ]
     },
     "execution_count": 38,
     "metadata": {},
     "output_type": "execute_result"
    }
   ],
   "source": [
    "Result(Xc(50,1e-06)), Result(Xc(10e3,1e-06))"
   ]
  },
  {
   "cell_type": "code",
   "execution_count": 40,
   "id": "1e529620",
   "metadata": {},
   "outputs": [
    {
     "name": "stdout",
     "output_type": "stream",
     "text": [
      "0.31 ohms\n",
      "62.83 ohms\n"
     ]
    },
    {
     "data": {
      "text/plain": [
       "(None, None)"
      ]
     },
     "execution_count": 40,
     "metadata": {},
     "output_type": "execute_result"
    }
   ],
   "source": [
    "Result(Xl(50,1e-03)), Result(Xl(10e3,1e-03))"
   ]
  },
  {
   "cell_type": "code",
   "execution_count": 42,
   "id": "a018a5c2",
   "metadata": {},
   "outputs": [
    {
     "data": {
      "text/plain": [
       "5.0"
      ]
     },
     "execution_count": 42,
     "metadata": {},
     "output_type": "execute_result"
    }
   ],
   "source": [
    "Z(3,4)"
   ]
  },
  {
   "cell_type": "code",
   "execution_count": null,
   "id": "63269989",
   "metadata": {},
   "outputs": [],
   "source": []
  }
 ],
 "metadata": {
  "kernelspec": {
   "display_name": "Python 3 (ipykernel)",
   "language": "python",
   "name": "python3"
  },
  "language_info": {
   "codemirror_mode": {
    "name": "ipython",
    "version": 3
   },
   "file_extension": ".py",
   "mimetype": "text/x-python",
   "name": "python",
   "nbconvert_exporter": "python",
   "pygments_lexer": "ipython3",
   "version": "3.8.8"
  },
  "toc": {
   "base_numbering": 1,
   "nav_menu": {},
   "number_sections": true,
   "sideBar": true,
   "skip_h1_title": false,
   "title_cell": "Table of Contents",
   "title_sidebar": "Contents",
   "toc_cell": false,
   "toc_position": {},
   "toc_section_display": true,
   "toc_window_display": false
  }
 },
 "nbformat": 4,
 "nbformat_minor": 5
}
