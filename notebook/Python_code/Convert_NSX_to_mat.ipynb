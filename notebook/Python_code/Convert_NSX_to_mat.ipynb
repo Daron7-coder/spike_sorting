{
 "cells": [
  {
   "cell_type": "code",
   "execution_count": 34,
   "id": "5fb29cb0",
   "metadata": {},
   "outputs": [],
   "source": [
    "import numpy as np\n",
    "import matplotlib.pyplot as plt\n",
    "import scipy.io\n",
    "from brpylib import NsxFile, brpylib_ver"
   ]
  },
  {
   "cell_type": "code",
   "execution_count": 27,
   "id": "ba14614c",
   "metadata": {},
   "outputs": [],
   "source": [
    "folder = '/Volumes/GoogleDrive-106311891740711524512/My Drive/Lab/Lab_projects/Daron/tetrode\\\n",
    "/20220127_dCA1/220204'\n",
    "fn = '220204_d0d0d0d0_c1001.ns6'"
   ]
  },
  {
   "cell_type": "code",
   "execution_count": 28,
   "id": "bf1042e8",
   "metadata": {},
   "outputs": [],
   "source": [
    "# Set the directory\n",
    "datafile = folder+'/'+fn"
   ]
  },
  {
   "cell_type": "code",
   "execution_count": 29,
   "id": "d21ba077",
   "metadata": {},
   "outputs": [
    {
     "name": "stdout",
     "output_type": "stream",
     "text": [
      "\n",
      "220204_d0d0d0d0_c1001.ns6 opened\n",
      "\n",
      "Output data requested is larger than 1 GB, attempting to preallocate output now\n",
      "\n",
      "First data packet requested begins at t = 0.003400 s, initial section padded with zeros\n",
      "Data extraction requires paging: 1 of 2\n",
      "Data extraction requires paging: 2 of 2\n",
      "\n",
      "220204_d0d0d0d0_c1001.ns6 closed\n"
     ]
    }
   ],
   "source": [
    "# Open file and extract headers\n",
    "nsx_file = NsxFile(datafile)\n",
    "\n",
    "\n",
    "# Extract data - note: data will be returned based on *SORTED* elec_ids, see cont_data['elec_ids']\n",
    "cont_data = nsx_file.getdata(elec_ids='all', \n",
    "                             start_time_s=0, \n",
    "                             data_time_s='all', \n",
    "                             downsample=1)\n",
    "# cont_data_p = nsx_file.getdata()\n",
    "# Close the nsx file now that all data is out\n",
    "nsx_file.close()"
   ]
  },
  {
   "cell_type": "code",
   "execution_count": 31,
   "id": "48acd584",
   "metadata": {},
   "outputs": [
    {
     "data": {
      "text/plain": [
       "{'elec_ids': [1, 2, 3, 4, 5, 6, 7, 8, 9, 10, 11, 12, 13, 14, 15, 16, 129],\n",
       " 'start_time_s': 0.0,\n",
       " 'data_time_s': 1321.2364333333333,\n",
       " 'downsample': 1,\n",
       " 'data': array([[  0.    ,   0.    ,   0.    , ..., 116.25  , 119.5   , 107.25  ],\n",
       "        [  0.    ,   0.    ,   0.    , ..., 110.    ,  97.5   ,  96.25  ],\n",
       "        [  0.    ,   0.    ,   0.    , ..., 101.5   ,  99.75  ,  97.25  ],\n",
       "        ...,\n",
       "        [  0.    ,   0.    ,   0.    , ..., 120.5   , 135.    , 141.    ],\n",
       "        [  0.    ,   0.    ,   0.    , ...,  40.    ,  39.25  ,  51.    ],\n",
       "        [  0.    ,   0.    ,   0.    , ..., 986.2057, 987.2738, 986.2057]],\n",
       "       dtype=float32),\n",
       " 'data_headers': [{'Header': 1, 'Timestamp': 102, 'NumDataPoints': 39636991}],\n",
       " 'ExtendedHeaderIndices': [0,\n",
       "  1,\n",
       "  2,\n",
       "  3,\n",
       "  4,\n",
       "  5,\n",
       "  6,\n",
       "  7,\n",
       "  8,\n",
       "  9,\n",
       "  10,\n",
       "  11,\n",
       "  12,\n",
       "  13,\n",
       "  14,\n",
       "  15,\n",
       "  16],\n",
       " 'samp_per_s': 30000.0}"
      ]
     },
     "execution_count": 31,
     "metadata": {},
     "output_type": "execute_result"
    }
   ],
   "source": [
    "cont_data"
   ]
  },
  {
   "cell_type": "code",
   "execution_count": 33,
   "id": "eaf712f0",
   "metadata": {},
   "outputs": [
    {
     "data": {
      "text/plain": [
       "[<matplotlib.lines.Line2D at 0x7fc2b10d5370>]"
      ]
     },
     "execution_count": 33,
     "metadata": {},
     "output_type": "execute_result"
    },
    {
     "data": {
      "image/png": "[encoded data removed]",
      "text/plain": [
       "<Figure size 432x288 with 1 Axes>"
      ]
     },
     "metadata": {
      "needs_background": "light"
     },
     "output_type": "display_data"
    }
   ],
   "source": [
    "plt.plot(cont_data['data'][0][:1*30000])"
   ]
  },
  {
   "cell_type": "code",
   "execution_count": 42,
   "id": "8b7d4190",
   "metadata": {},
   "outputs": [
    {
     "data": {
      "text/plain": [
       "[None,\n",
       " None,\n",
       " None,\n",
       " None,\n",
       " None,\n",
       " None,\n",
       " None,\n",
       " None,\n",
       " None,\n",
       " None,\n",
       " None,\n",
       " None,\n",
       " None,\n",
       " None,\n",
       " None,\n",
       " None]"
      ]
     },
     "execution_count": 42,
     "metadata": {},
     "output_type": "execute_result"
    }
   ],
   "source": [
    "[scipy.io.savemat(f'{folder}/ch({i}).mat', {f'test_{i}': cont_data['data'][i]}) for i in range(16)]"
   ]
  },
  {
   "cell_type": "code",
   "execution_count": 36,
   "id": "b8ed10dd",
   "metadata": {},
   "outputs": [
    {
     "data": {
      "text/plain": [
       "[0, 1, 2, 3, 4, 5, 6, 7, 8, 9, 10, 11, 12, 13, 14, 15]"
      ]
     },
     "execution_count": 36,
     "metadata": {},
     "output_type": "execute_result"
    }
   ],
   "source": [
    "[i for i in range(16)]"
   ]
  },
  {
   "cell_type": "code",
   "execution_count": null,
   "id": "b421a933",
   "metadata": {},
   "outputs": [],
   "source": []
  }
 ],
 "metadata": {
  "kernelspec": {
   "display_name": "Python 3 (ipykernel)",
   "language": "python",
   "name": "python3"
  },
  "language_info": {
   "codemirror_mode": {
    "name": "ipython",
    "version": 3
   },
   "file_extension": ".py",
   "mimetype": "text/x-python",
   "name": "python",
   "nbconvert_exporter": "python",
   "pygments_lexer": "ipython3",
   "version": "3.8.8"
  }
 },
 "nbformat": 4,
 "nbformat_minor": 5
}
